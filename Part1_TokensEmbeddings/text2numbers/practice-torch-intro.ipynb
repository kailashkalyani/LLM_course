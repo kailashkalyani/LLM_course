{
 "cells": [
  {
   "cell_type": "markdown",
   "id": "cd07c3a3",
   "metadata": {},
   "source": [
    "### Definitions\n",
    "*scalar*: a single number. e.g. 2\n",
    "*vector*: single dimensional matrix. e.g. [2,3,2]\n",
    "*matrix*: 2 dimensions or more [[2,2,3],[2,1,0]]\n"
   ]
  },
  {
   "cell_type": "code",
   "execution_count": 108,
   "id": "7ff49959",
   "metadata": {},
   "outputs": [
    {
     "data": {
      "text/plain": [
       "(tensor([[1],\n",
       "         [2]]),\n",
       " torch.Size([2, 1]))"
      ]
     },
     "execution_count": 108,
     "metadata": {},
     "output_type": "execute_result"
    }
   ],
   "source": [
    "import torch\n",
    "#v=torch.tensor(1)\n",
    "v=torch.tensor([[1],[2]])\n",
    "v, v.shape\n"
   ]
  },
  {
   "cell_type": "code",
   "execution_count": 109,
   "id": "95097900",
   "metadata": {},
   "outputs": [
    {
     "name": "stdout",
     "output_type": "stream",
     "text": [
      "w1>tensor([[9, 2, 3],\n",
      "        [4, 5, 6]]).\n",
      " w1.T = tensor([[9, 4],\n",
      "        [2, 5],\n",
      "        [3, 6]])\n",
      "w2[0]=tensor([[10, 12, -3],\n",
      "        [ 4,  5,  6]])\n",
      "flat w1 = tensor([9, 2, 3, 4, 5, 6])\n"
     ]
    }
   ],
   "source": [
    "#reshape a tensor\n",
    "w1= torch.tensor([[9,2,3],[4,5,6]])\n",
    "w2= torch.tensor([[[10,12,-3],[4,5,6]],[[8,10,-1],[2,0,3]]])\n",
    "print( f'w1>{w1}.\\r\\n'\\\n",
    "        f' w1.T = {w1.t()}\\r\\n'\\\n",
    "        f'w2[0]={w2[0]}\\r\\n'\\\n",
    "        f'flat w1 = {w1.flatten()}'\n",
    "        )"
   ]
  },
  {
   "cell_type": "code",
   "execution_count": 110,
   "id": "c28e4ee7",
   "metadata": {},
   "outputs": [
    {
     "name": "stdout",
     "output_type": "stream",
     "text": [
      "tensor([[9, 2],\n",
      "        [3, 4],\n",
      "        [5, 6]])\n",
      "tensor([[[ 0,  1,  2],\n",
      "         [ 3,  4,  5],\n",
      "         [ 6,  7,  8]],\n",
      "\n",
      "        [[ 9, 10, 11],\n",
      "         [12, 13, 14],\n",
      "         [15, 16, 17]]])\n"
     ]
    },
    {
     "data": {
      "text/plain": [
       "tensor([[[ 0,  9],\n",
       "         [ 3, 12],\n",
       "         [ 6, 15]],\n",
       "\n",
       "        [[ 1, 10],\n",
       "         [ 4, 13],\n",
       "         [ 7, 16]],\n",
       "\n",
       "        [[ 2, 11],\n",
       "         [ 5, 14],\n",
       "         [ 8, 17]]])"
      ]
     },
     "execution_count": 110,
     "metadata": {},
     "output_type": "execute_result"
    }
   ],
   "source": [
    "import numpy\n",
    "print(w1.view(3,-1))\n",
    "\n",
    "v2=torch.arange(18).reshape(2,3,-1)\n",
    "print(v2)\n",
    "\n",
    "torch.transpose(v2,0,2)"
   ]
  },
  {
   "cell_type": "code",
   "execution_count": 111,
   "id": "299ae063",
   "metadata": {},
   "outputs": [
    {
     "data": {
      "text/plain": [
       "(tensor(-0.0725), tensor(0.7835))"
      ]
     },
     "execution_count": 111,
     "metadata": {},
     "output_type": "execute_result"
    }
   ],
   "source": [
    "#Random numbers and permutations\n",
    "#gaussian distribution\n",
    "\n",
    "rmat = torch.randn(4,8) # generates a matrix tensor 4x 8 with numbers betwen -1 and 1 with a theoretical mean of 0 and std. distribution of 1\n",
    "rmat.mean(), rmat.std() # check mean and standard deviation"
   ]
  },
  {
   "cell_type": "code",
   "execution_count": 112,
   "id": "7ff288e3",
   "metadata": {},
   "outputs": [
    {
     "data": {
      "text/plain": [
       "tensor([[ 6, 14],\n",
       "        [ 2, 12],\n",
       "        [17, 17]])"
      ]
     },
     "execution_count": 112,
     "metadata": {},
     "output_type": "execute_result"
    }
   ],
   "source": [
    "torch.randint(low=0, high=20, size=(3,2))"
   ]
  },
  {
   "cell_type": "code",
   "execution_count": 116,
   "id": "9b7bb448",
   "metadata": {},
   "outputs": [
    {
     "data": {
      "text/plain": [
       "tensor([ 1,  3, 28,  4, 30, 24, 26,  7, 16, 10, 13, 20,  2, 22, 17,  5, 14,  0,\n",
       "         8,  9, 27, 23, 25, 19, 18,  6, 11, 12, 21, 15])"
      ]
     },
     "execution_count": 116,
     "metadata": {},
     "output_type": "execute_result"
    }
   ],
   "source": [
    "myspace = torch.linspace(0,30,30,dtype=int)\n",
    "randperm = torch.randperm(len(myspace))\n",
    "myspace[randperm] #randomly resort an array"
   ]
  },
  {
   "cell_type": "code",
   "execution_count": null,
   "id": "9e8a4e65",
   "metadata": {},
   "outputs": [
    {
     "name": "stdout",
     "output_type": "stream",
     "text": [
      "Name: Alice      | Age:    30 | Height: 1.73 | Score: 95.68\n"
     ]
    }
   ],
   "source": [
    "name   = 'Alice'\n",
    "age    = 30\n",
    "height = 1.73\n",
    "score  = 95.6789\n",
    "\n",
    "print(f'Name: {name:10} | Age: {age:5} | Height: {height:4} | Score: {score:}' )"
   ]
  }
 ],
 "metadata": {
  "kernelspec": {
   "display_name": ".venv (3.12.3)",
   "language": "python",
   "name": "python3"
  },
  "language_info": {
   "codemirror_mode": {
    "name": "ipython",
    "version": 3
   },
   "file_extension": ".py",
   "mimetype": "text/x-python",
   "name": "python",
   "nbconvert_exporter": "python",
   "pygments_lexer": "ipython3",
   "version": "3.12.3"
  }
 },
 "nbformat": 4,
 "nbformat_minor": 5
}
