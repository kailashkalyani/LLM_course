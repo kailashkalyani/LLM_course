{
 "cells": [
  {
   "cell_type": "markdown",
   "id": "2dd1ed9c",
   "metadata": {},
   "source": [
    "### Dictionary Items in Python\n",
    "Curly braces can define Dictionary items. Or you create a variable of type dict()"
   ]
  },
  {
   "cell_type": "code",
   "execution_count": 1,
   "id": "6940804a",
   "metadata": {},
   "outputs": [
    {
     "name": "stdout",
     "output_type": "stream",
     "text": [
      "dict_keys(['name', 'age', 'sex'])\n",
      "dict_values(['Sarah', 44, 'Female'])\n",
      "dict_items([('name', 'Sarah'), ('age', 44), ('sex', 'Female')])\n",
      "Help on built-in function sum in module builtins:\n",
      "\n",
      "sum(iterable, /, start=0)\n",
      "    Return the sum of a 'start' value (default: 0) plus an iterable of numbers\n",
      "\n",
      "    When the iterable is empty, return the start value.\n",
      "    This function is intended specifically for use with numeric values and may\n",
      "    reject non-numeric types.\n",
      "\n"
     ]
    }
   ],
   "source": [
    "E= dict()\n",
    "E['name']='Sarah'\n",
    "E['age']=44\n",
    "E['sex']='Female'\n",
    "\n",
    "D = {\n",
    "    'name':'Kailash',\n",
    "    'age': 47,\n",
    "    'sex':'Male'\n",
    "}\n",
    "\n",
    "print(E.keys())\n",
    "print(E.values())\n",
    "print(E.items())\n",
    "\n",
    "help(sum)"
   ]
  },
  {
   "cell_type": "code",
   "execution_count": 1,
   "id": "ce428d48",
   "metadata": {},
   "outputs": [
    {
     "name": "stdout",
     "output_type": "stream",
     "text": [
      "\u001b[31mSignature:\u001b[39m sum(iterable, /, start=\u001b[32m0\u001b[39m)\n",
      "\u001b[31mDocstring:\u001b[39m\n",
      "Return the sum of a 'start' value (default: 0) plus an iterable of numbers\n",
      "\n",
      "When the iterable is empty, return the start value.\n",
      "This function is intended specifically for use with numeric values and may\n",
      "reject non-numeric types.\n",
      "\u001b[31mType:\u001b[39m      builtin_function_or_method"
     ]
    }
   ],
   "source": [
    "sum??"
   ]
  },
  {
   "cell_type": "code",
   "execution_count": null,
   "id": "5ccb85d0",
   "metadata": {},
   "outputs": [],
   "source": [
    "\n",
    "a=[2,3]\n",
    "b=a\n",
    "b[1]=5\n",
    "\n",
    "if(a[1]==b[1]):\n",
    "\tprint ('b is a pointer to a')\n",
    "else: \n",
    "\tprint ('b is a copy of a')\n",
    "\t\n",
    "id??\n"
   ]
  },
  {
   "cell_type": "markdown",
   "id": "9d3e2a9c",
   "metadata": {},
   "source": [
    "### creating a fibonacci sequence using python"
   ]
  },
  {
   "cell_type": "code",
   "execution_count": 11,
   "id": "b6f89abb",
   "metadata": {},
   "outputs": [
    {
     "data": {
      "text/plain": [
       "[0, 1, 1, 2, 3]"
      ]
     },
     "execution_count": 11,
     "metadata": {},
     "output_type": "execute_result"
    }
   ],
   "source": [
    "fibonacci =[]\n",
    "a,b=0,1\n",
    "items = 5\n",
    "for i in range(items):\n",
    "    fibonacci.append(a)\n",
    "    a,b=b,a+b\n",
    "\n",
    "fibonacci"
   ]
  },
  {
   "cell_type": "code",
   "execution_count": 15,
   "id": "a3907032",
   "metadata": {},
   "outputs": [
    {
     "data": {
      "text/plain": [
       "[2.449489742783178, 2.6457513110645907, 2.8284271247461903, 3.0]"
      ]
     },
     "execution_count": 15,
     "metadata": {},
     "output_type": "execute_result"
    }
   ],
   "source": [
    "[i**(1/2) for i in range (10) if i>5]\n"
   ]
  },
  {
   "cell_type": "code",
   "execution_count": 43,
   "id": "25b9e583",
   "metadata": {},
   "outputs": [
    {
     "data": {
      "text/plain": [
       "array([[2, 2, 2, 2, 2, 2, 2, 2, 2, 2, 2, 2],\n",
       "       [2, 2, 2, 2, 2, 2, 2, 2, 2, 2, 2, 2],\n",
       "       [2, 2, 2, 2, 2, 2, 2, 2, 2, 2, 2, 2],\n",
       "       [2, 2, 2, 2, 2, 2, 2, 2, 2, 2, 2, 2],\n",
       "       [2, 2, 2, 2, 2, 2, 2, 2, 2, 2, 2, 2],\n",
       "       [2, 2, 2, 2, 2, 2, 2, 2, 2, 2, 2, 2],\n",
       "       [2, 2, 2, 2, 2, 2, 2, 2, 2, 2, 2, 2],\n",
       "       [2, 2, 2, 2, 2, 2, 2, 2, 2, 2, 2, 2],\n",
       "       [2, 2, 2, 2, 2, 2, 2, 2, 2, 2, 2, 2],\n",
       "       [2, 2, 2, 2, 2, 2, 2, 2, 2, 2, 2, 2],\n",
       "       [2, 2, 2, 2, 2, 2, 2, 2, 2, 2, 2, 2],\n",
       "       [2, 2, 2, 2, 2, 2, 2, 2, 2, 2, 2, 2]])"
      ]
     },
     "execution_count": 43,
     "metadata": {},
     "output_type": "execute_result"
    }
   ],
   "source": [
    "import numpy as np\n",
    "arr1 = np.zeros(0,dtype=float)\n",
    "arr1 = np.append(arr1,3)\n",
    "arr1\n",
    "\n",
    "array3 = np.full((12,12), 2)\n",
    "array3"
   ]
  },
  {
   "cell_type": "code",
   "execution_count": 32,
   "id": "22d0e2f7",
   "metadata": {},
   "outputs": [
    {
     "data": {
      "text/plain": [
       "array([0., 1., 0., 0., 1., 0., 0., 1., 0., 0., 0., 0., 0., 0., 0., 1., 0.,\n",
       "       0., 1., 0., 0., 0., 0., 1., 0., 0., 1., 0., 0.])"
      ]
     },
     "execution_count": 32,
     "metadata": {},
     "output_type": "execute_result"
    }
   ],
   "source": [
    "text = 'Hello world! THIS is the DAY!'\n",
    "vowels = np.zeros(len(text))\n",
    "for i,t in enumerate(text):\n",
    "    if t.lower() in 'aeiou':\n",
    "        vowels[i]=1\n",
    "vowels"
   ]
  },
  {
   "cell_type": "code",
   "execution_count": 40,
   "id": "01517826",
   "metadata": {},
   "outputs": [
    {
     "name": "stdout",
     "output_type": "stream",
     "text": [
      "0 a\n",
      "1 b\n",
      "4 c\n",
      "9 d\n",
      "16 e\n",
      "0 0 a\n",
      "1 1 b\n",
      "2 4 c\n",
      "3 9 d\n",
      "4 16 e\n"
     ]
    }
   ],
   "source": [
    "numberslist = [i for i in range(5)]\n",
    "letterslist = ['a','b','c','d','e']\n",
    "\n",
    "for num,let in zip(numberslist,letterslist):\n",
    "    print(num**2,let)\n",
    "\n",
    "for idx,(num,let) in enumerate(zip(numberslist, letterslist)):\n",
    "    print (idx, num**2, let)"
   ]
  },
  {
   "cell_type": "code",
   "execution_count": 41,
   "id": "8fad1e81",
   "metadata": {},
   "outputs": [
    {
     "data": {
      "text/plain": [
       "{'alpha': 10, 'beta': 20, 'gamma': 40}"
      ]
     },
     "execution_count": 41,
     "metadata": {},
     "output_type": "execute_result"
    }
   ],
   "source": [
    "waves = ['alpha', 'beta', 'gamma']\n",
    "freq = [10,20,40]\n",
    "\n",
    "wavefreq = dict(zip(waves,freq))\n",
    "wavefreq"
   ]
  },
  {
   "cell_type": "code",
   "execution_count": null,
   "id": "77df37b6",
   "metadata": {},
   "outputs": [
    {
     "name": "stdout",
     "output_type": "stream",
     "text": [
      "hello world 20.5 Hello\n",
      "here is the same number in 0x64 hex and 0o144 octal and 100 decimal\n"
     ]
    }
   ],
   "source": [
    "#string stuff\n",
    "print(\"hello world %g %s\" %(20.5, \"Hello\")) # order of appearance is important - what are the other print interpolation options?\n",
    "\n",
    "print(\"here is the same number in %#x hex and %#o octal and %d decimal\" %(100,100,100))"
   ]
  },
  {
   "cell_type": "code",
   "execution_count": 5,
   "id": "3b6abb80",
   "metadata": {},
   "outputs": [
    {
     "name": "stderr",
     "output_type": "stream",
     "text": [
      "/tmp/ipykernel_55161/3997565317.py:2: DeprecationWarning: This function is deprecated. Please call randint(0, 50 + 1) instead\n",
      "  np.random.random_integers(0,50,size=50)\n"
     ]
    },
    {
     "data": {
      "text/plain": [
       "array([24,  8, 33, 25, 45,  0, 20, 42, 31,  0, 48, 25, 29, 44, 20, 50, 18,\n",
       "       48, 18, 34, 14,  4, 36, 45, 19, 43, 32, 45, 44, 36, 30, 14, 28, 26,\n",
       "       21,  4, 44, 10, 28, 43, 21,  6, 10, 39, 31, 24,  8, 48, 18, 24])"
      ]
     },
     "execution_count": 5,
     "metadata": {},
     "output_type": "execute_result"
    }
   ],
   "source": [
    "import numpy as np\n",
    "np.random.random_integers(0,50,size=50)\n"
   ]
  }
 ],
 "metadata": {
  "kernelspec": {
   "display_name": ".venv (3.12.3)",
   "language": "python",
   "name": "python3"
  },
  "language_info": {
   "codemirror_mode": {
    "name": "ipython",
    "version": 3
   },
   "file_extension": ".py",
   "mimetype": "text/x-python",
   "name": "python",
   "nbconvert_exporter": "python",
   "pygments_lexer": "ipython3",
   "version": "3.12.3"
  }
 },
 "nbformat": 4,
 "nbformat_minor": 5
}
